{
 "cells": [
  {
   "cell_type": "code",
   "execution_count": 14,
   "metadata": {},
   "outputs": [
    {
     "data": {
      "text/html": [
       "        <script type=\"text/javascript\">\n",
       "        window.PlotlyConfig = {MathJaxConfig: 'local'};\n",
       "        if (window.MathJax) {MathJax.Hub.Config({SVG: {font: \"STIX-Web\"}});}\n",
       "        if (typeof require !== 'undefined') {\n",
       "        require.undef(\"plotly\");\n",
       "        requirejs.config({\n",
       "            paths: {\n",
       "                'plotly': ['https://cdn.plot.ly/plotly-latest.min']\n",
       "            }\n",
       "        });\n",
       "        require(['plotly'], function(Plotly) {\n",
       "            window._Plotly = Plotly;\n",
       "        });\n",
       "        }\n",
       "        </script>\n",
       "        "
      ]
     },
     "metadata": {},
     "output_type": "display_data"
    }
   ],
   "source": [
    "from glob import glob\n",
    "import matplotlib.pyplot as plt\n",
    "import sys\n",
    "import os\n",
    "import numpy as np\n",
    "from subprocess import check_call\n",
    "from tempfile import NamedTemporaryFile as TempFile\n",
    "sys.path.insert(0, '/private/home/mattle/ContraPro')\n",
    "import plotly.graph_objs as go\n",
    "from evaluate import count_errors, print_all_stats  # import the ContraPro evaluate.py file\n",
    "plotly.offline.init_notebook_mode(connected=True)"
   ]
  },
  {
   "cell_type": "code",
   "execution_count": 15,
   "metadata": {},
   "outputs": [],
   "source": [
    "def get_scores(base):\n",
    "    ref = '/private/home/mattle/ContraPro/contrapro.json'\n",
    "    all_res = []\n",
    "    for i in range(0, 5):\n",
    "        with TempFile() as tf:\n",
    "            logfile = os.path.join(base, f'doc-eval-logs_n_ctxt_{i}.log')\n",
    "            check_call(f'cat {logfile} | grep \"^H-\" | cut -f2 > {tf.name}', shell=True)\n",
    "            all_res.append(count_errors(open(ref, 'r'), open(tf.name, 'r'), maximize=True, verbose=False))\n",
    "    return all_res\n",
    "\n",
    "def mk_plots(all_res):\n",
    "    for category in ['by_category', 'by_intrasegmental', 'by_ante_distance']:\n",
    "        legend = []\n",
    "        for k, res in all_res.items():\n",
    "            labels = sorted(list(res[category].keys()))\n",
    "            values = np.array([res[category][k]['correct'] / res[category][k]['total'] for k in labels])\n",
    "            labels = list(map(str, labels))\n",
    "            plt.plot(labels, values)\n",
    "            legend.append(k)\n",
    "        plt.legend(legend)\n",
    "        plt.title(category)\n",
    "        plt.show()\n",
    "        \n",
    "def mk_plotly(all_res):\n",
    "    for category in ['by_category', 'by_intrasegmental', 'by_ante_distance']:\n",
    "        legend = []\n",
    "        fig = go.Figure()\n",
    "        for k, res in all_res.items():\n",
    "            labels = sorted(list(res[category].keys()))\n",
    "            values = np.array([res[category][k]['correct'] / res[category][k]['total'] for k in labels])\n",
    "            labels = list(map(str, labels))\n",
    "            fig.add_trace(go.Scatter(x=labels, y=values, mode='lines', name=k, hoverlabel = dict(namelength = -1)))\n",
    "        fig.update_layout(\n",
    "            title=category,\n",
    "            xaxis_title=category,\n",
    "            yaxis_title='Accuracy'\n",
    "        )\n",
    "        fig.show()"
   ]
  },
  {
   "cell_type": "code",
   "execution_count": 16,
   "metadata": {},
   "outputs": [],
   "source": [
    "finetuned = get_scores('/checkpoint/mattle/2019-08-07/finetune_wmt.lr_0.0007.en-de.ngpu4')\n",
    "orig_wmt_ensemble = get_scores('/checkpoint/mattle/wmt-19-checkpoints/')\n",
    "all_res = {\n",
    "    **{f'finetuned_ctxt_{i}': x for i, x in enumerate(finetuned)},\n",
    "    **{f'orig_wmt_ctxt_{i}': x for i, x in enumerate(orig_wmt_ensemble)}\n",
    "}"
   ]
  },
  {
   "cell_type": "code",
   "execution_count": 17,
   "metadata": {},
   "outputs": [
    {
     "name": "stdout",
     "output_type": "stream",
     "text": [
      "total : 10043 12000 0.8369166666666666\n",
      "\n",
      "statistics by error category\n",
      "it:er : 3082 4000 0.7705\n",
      "it:es : 3665 4000 0.91625\n",
      "it:sie : 3296 4000 0.824\n",
      "\n",
      "statistics by intrasegmental\n",
      "False : 7969 9600 0.8301041666666666 \n",
      "True : 2074 2400 0.8641666666666666 \n",
      "\n",
      "statistics by ante distance\n",
      "0 : 2074 2400 0.8641666666666666 \n",
      "1 : 5849 7075 0.8267137809187279 \n",
      "2 : 1253 1510 0.8298013245033112 \n",
      "3 : 479 573 0.8359511343804538 \n",
      ">3 : 388 442 0.8778280542986425 \n",
      "\n",
      "ante distance per pronoun pairs\n",
      "ante distance 0 :\n",
      "it:er 736 \n",
      "it:es 872 \n",
      "it:sie 792 \n",
      "ante distance 1 :\n",
      "it:er 2577 \n",
      "it:es 1892 \n",
      "it:sie 2606 \n",
      "ante distance 2 :\n",
      "it:er 459 \n",
      "it:es 631 \n",
      "it:sie 420 \n",
      "ante distance 3 :\n",
      "it:er 167 \n",
      "it:es 274 \n",
      "it:sie 132 \n",
      "ante distance >3 :\n",
      "it:er 61 \n",
      "it:es 331 \n",
      "it:sie 50 \n"
     ]
    }
   ],
   "source": [
    "# Print results for context length of 4\n",
    "# The first 4 tables are in the format (correct, total_samples, accuracy)\n",
    "print_all_stats(finetuned[4])"
   ]
  },
  {
   "cell_type": "code",
   "execution_count": null,
   "metadata": {},
   "outputs": [],
   "source": [
    "# Plot by different breakdowns for context sizes 0-4\n",
    "mk_plotly(all_res)"
   ]
  }
 ],
 "metadata": {
  "kernelspec": {
   "display_name": "Python 3",
   "language": "python",
   "name": "python3"
  },
  "language_info": {
   "codemirror_mode": {
    "name": "ipython",
    "version": 3
   },
   "file_extension": ".py",
   "mimetype": "text/x-python",
   "name": "python",
   "nbconvert_exporter": "python",
   "pygments_lexer": "ipython3",
   "version": "3.6.6"
  }
 },
 "nbformat": 4,
 "nbformat_minor": 2
}
